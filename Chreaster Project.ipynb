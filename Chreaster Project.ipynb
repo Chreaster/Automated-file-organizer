{
 "cells": [
  {
   "cell_type": "code",
   "execution_count": 2,
   "id": "1d3e281a",
   "metadata": {},
   "outputs": [],
   "source": [
    "import os\n",
    "import shutil\n",
    "\n",
    "#creating a function that gets a file path and split the file name from the extention\n",
    "def split_extention(directory1):\n",
    "    filename, extension = os.path.splitext(directory1)\n",
    "    return extension.lower()[1:]\n",
    "\n",
    "def categorize_by_extension(directory):\n",
    "    category_folders = {}\n",
    "    for filename in os.listdir(directory):\n",
    "        filepath = os.path.join(directory, filename)\n",
    "        if os.path.isfile(filepath):\n",
    "            extension = split_extention(filepath)\n",
    "        if extension:\n",
    "            category_folder = os.path.join(directory, f\"{extension}_files\")\n",
    "        if not os.path.exists(category_folder):\n",
    "            os.makedirs(category_folder)\n",
    "            category_folders[extension] = category_folder\n",
    "        if extension:\n",
    "            shutil.move(filepath, category_folders[extension])\n",
    "\n",
    "#Create folders within a directory using the name the folders and move moves the files to their respective folders.\n",
    "\n",
    "def main_file_organizer(directory):\n",
    "   \"\"\"\n",
    "  create a folder\n",
    " add files to existing folder\n",
    "   \"\"\"\n",
    "   try:\n",
    "      categorize_by_extension(directory)\n",
    "      print(f\"Folders created and files moved with 'extension_file' format in '{directory}'.\")\n",
    "   except:\n",
    "      pass\n",
    "main_file_organizer(\"C:\\\\Users\\\\User\\\\Desktop\\\\Project_test_folder\")"
   ]
  },
  {
   "cell_type": "code",
   "execution_count": null,
   "id": "e4a0ac3a",
   "metadata": {},
   "outputs": [],
   "source": []
  }
 ],
 "metadata": {
  "kernelspec": {
   "display_name": "Python 3 (ipykernel)",
   "language": "python",
   "name": "python3"
  },
  "language_info": {
   "codemirror_mode": {
    "name": "ipython",
    "version": 3
   },
   "file_extension": ".py",
   "mimetype": "text/x-python",
   "name": "python",
   "nbconvert_exporter": "python",
   "pygments_lexer": "ipython3",
   "version": "3.11.5"
  }
 },
 "nbformat": 4,
 "nbformat_minor": 5
}
